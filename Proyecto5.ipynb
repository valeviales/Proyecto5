{
 "cells": [
  {
   "cell_type": "markdown",
   "metadata": {},
   "source": [
    "---\n",
    "\n",
    "## Universidad de Costa Rica\n",
    "### Escuela de Ingeniería Eléctrica\n",
    "#### IE0405 - Modelos Probabilísticos de Señales y Sistemas\n",
    "\n",
    "Segundo semestre del 2020\n",
    "\n",
    "---\n",
    "\n",
    "* Estudiante: **Valeria Viales Vega**\n",
    "* Carné: **B67709**\n",
    "* Grupo: **1**\n",
    "\n",
    "\n",
    "# `P5` - Análisis y predicción del consumo diario de energía\n",
    "\n",
    "\n"
   ]
  },
  {
   "cell_type": "code",
   "execution_count": 5,
   "metadata": {},
   "outputs": [],
   "source": [
    "import pandas as pd\n",
    "import numpy as np\n",
    "from datetime import datetime\n",
    "\n",
    "def energia_diaria(archivo_json):\n",
    "    '''Importa la base de datos completa y devuelve\n",
    "    un vector con la energía diaria, en MWh.\n",
    "    \n",
    "    :param archivo_json: el contenedor con datos crudos\n",
    "    :return: el vector de energía diaria\n",
    "    '''\n",
    "    # Cargar el \"DataFrame\"\n",
    "    df = pd.read_json(archivo_json) \n",
    "\n",
    "    # Convertir en un array de NumPy\n",
    "    datos = np.array(df)  \n",
    "\n",
    "    # Crear vector con todos los valores horarios de demanda\n",
    "    demanda = []\n",
    "\n",
    "    # Extraer la magnitud de la demanda para todas las horas\n",
    "    for hora in range(len(datos)):\n",
    "        demanda.append(datos[hora][0]['MW'])\n",
    "\n",
    "    # Separar las magnitudes en grupos de 24 (24 h)\n",
    "    demanda = np.split(np.array(demanda), len(demanda) / 24)\n",
    "\n",
    "    # Crear vector para almacenar la energía a partir de la demanda\n",
    "    energia = []\n",
    "\n",
    "    # Calcular la energía diaria por la regla del trapecio\n",
    "    for dia in range(len(demanda)):\n",
    "        E = round(np.trapz(demanda[dia]), 2)\n",
    "        energia.append(E)\n",
    "\n",
    "    return energia "
   ]
  },
  {
   "cell_type": "code",
   "execution_count": 6,
   "metadata": {},
   "outputs": [],
   "source": [
    "import numpy as np\n",
    "\n",
    "def definicion_estados(vector_energia, estados):\n",
    "    '''Una función que se encarga de retornar\n",
    "    los límites del rango de energía para\n",
    "    una cantidad arbitraria de estados sobre \n",
    "    la base del vector de energía.\n",
    "    \n",
    "    :param energia: vector de energía diaria\n",
    "    :param estados: el número de estados\n",
    "    :return: el vector de estados\n",
    "    '''\n",
    "    \n",
    "    minimo = np.min(vector_energia)\n",
    "    maximo = np.max(vector_energia)\n",
    "    segmento = (maximo - minimo)/estados\n",
    "    vector_estados = np.empty(len(vector_energia))\n",
    "    \n",
    "    for i, dia in enumerate(vector_energia):\n",
    "        diferencia = dia - minimo\n",
    "        proporcion = diferencia // segmento\n",
    "        vector_estados[i] = proporcion + 1\n",
    "        \n",
    "    return vector_estados"
   ]
  },
  {
   "cell_type": "code",
   "execution_count": 7,
   "metadata": {},
   "outputs": [],
   "source": [
    "import numpy as np\n",
    "\n",
    "def probabilidad_transicion(vector_estados, numero_estados, presente, futuro):\n",
    "    '''Una función que se encarga de calcular\n",
    "    la probabilidad de ocurrencia de la transición\n",
    "    entre un estado inicial 'i' y un estado futuro 'j'.\n",
    "    \n",
    "    :param vector_estados: el vector con los todos los estados\n",
    "    :param presente: el número del estado presente\n",
    "    :param futuro: el número del estado futuro\n",
    "    :return: la probabilidad de transición\n",
    "    '''\n",
    "    \n",
    "    # Recorrer el vector_estados\n",
    "    ocurrencias_i = 0\n",
    "    ocurrencias_i_j = 0\n",
    "    for i, estado in enumerate(vector_estados[0:-1]):\n",
    "        if estado == presente:\n",
    "            ocurrencias_i += 1\n",
    "            if vector_estados[i+1] == futuro:\n",
    "                ocurrencias_i_j += 1\n",
    "    \n",
    "    # Cálculo de la probabilidad\n",
    "    probabilidad = ocurrencias_i_j / ocurrencias_i\n",
    "    \n",
    "    return probabilidad"
   ]
  },
  {
   "cell_type": "code",
   "execution_count": 8,
   "metadata": {},
   "outputs": [
    {
     "name": "stdout",
     "output_type": "stream",
     "text": [
      "[ 1.  6.  7.  8.  7.  3.  7.  8.  8.  7.  8.  6.  3.  7.  8.  8.  8.  8.\n",
      "  7.  4.  8.  8.  8.  9.  9.  7.  4.  9.  9.  9.  9.  8.  7.  4.  8.  9.\n",
      "  9.  9.  9.  6.  4.  8.  9. 10. 10.  9.  8.  5.  9. 10. 10. 10. 10.  8.\n",
      "  5.  8.  8.  9.  9.  9.  7.  4.  8.  9.  9.  9.  9.  7.  5.  9. 10. 10.\n",
      " 10. 10.  8.  5.  9. 10. 10. 10.  9.  7.  5.  9. 10.  9. 10. 10.  8.  5.\n",
      " 10. 10. 10. 10.  9.  7.  5.  9. 10. 10.  8. 10.  9.  6. 10.  9.  8.  4.\n",
      "  2.  4.  3.  8.  9. 10. 10. 11.  9.  6. 10. 10.  7. 10. 10.  8.  6. 10.\n",
      " 10. 10.  9.  9.  7.  5.  9. 10. 10.  9.  9.  7.  4.  8.  9.  8.  9.  8.\n",
      "  6.  4.  7.  8.  8.  8.  8.  6.  4.  9.  9.  9.  9.  9.  7.  4.  8.  8.\n",
      "  8.  8.  8.  7.  4.  9. 10. 10.  9.  9.  7.  4.  8.  9.  8.  8.  8.  6.\n",
      "  4.  7.  8.  8.  8.  8.  6.  4.  7.  8.  8.  8.  8.  6.  3.  7.  8.  9.\n",
      "  8.  8.  7.  5.  8.  9.  8.  5.  7.  5.  4.  8.  9.  9.  9.  7.  6.  3.\n",
      "  8.  9.  8.  8.  8.  6.  4.  7.  8.  7.  2.  6.  6.  3.  7.  8.  8.  8.\n",
      "  8.  7.  4.  8.  9.  9.  8.  8.  6.  4.  8.  8.  8.  8.  8.  6.  3.  7.\n",
      "  8.  8.  8.]\n"
     ]
    },
    {
     "data": {
      "image/png": "[encoded data removed]",
      "text/plain": [
       "<Figure size 432x288 with 1 Axes>"
      ]
     },
     "metadata": {
      "needs_background": "light"
     },
     "output_type": "display_data"
    },
    {
     "name": "stdout",
     "output_type": "stream",
     "text": [
      "Pi_ij = 0.24324324324324326\n"
     ]
    }
   ],
   "source": [
    "import matplotlib.pyplot as plt\n",
    "\n",
    "# Importar los datos y calcular la energía diaria\n",
    "vector_energia = energia_diaria('demanda_2019.json')\n",
    "\n",
    "# Definir los estados\n",
    "numero_estados = 10\n",
    "vector_estados = definicion_estados(vector_energia, numero_estados)\n",
    "print(vector_estados)\n",
    "\n",
    "# Graficar la evolución de los estados\n",
    "plt.plot(vector_estados)\n",
    "plt.xlabel('Día del año')\n",
    "plt.ylabel('Consumo de energía (estado)')\n",
    "plt.show()\n",
    "\n",
    "# Definir la probabilidad de transición de \"i\" a \"j\"\n",
    "i, j = 10, 9\n",
    "Pi_ij = probabilidad_transicion(vector_estados, numero_estados, i, j)\n",
    "print('Pi_ij =', Pi_ij)"
   ]
  },
  {
   "cell_type": "markdown",
   "metadata": {},
   "source": [
    "---\n",
    "## 4. - Asignaciones del proyecto\n",
    "\n",
    "### Asignación de parámetros\n",
    "\n",
    "Las asignaciones requieren de valores de $t$, $i$, $j$ asignados según carné. "
   ]
  },
  {
   "cell_type": "code",
   "execution_count": 9,
   "metadata": {},
   "outputs": [],
   "source": [
    "from numpy import random\n",
    "from scipy import stats\n",
    "\n",
    "def parametros_asignados(digitos):\n",
    "    '''Elige un valor t aleatoriamente,\n",
    "    dos estados arbitrarios i y j\n",
    "    '''\n",
    "    \n",
    "    random.seed(digitos)\n",
    "    estados = [i+1 for i in range(10)]\n",
    "    T = stats.expon(2)\n",
    "    t = int(T.rvs())\n",
    "    i = estados[random.randint(0, len(estados))]\n",
    "    j = estados[random.randint(0, len(estados))]\n",
    "    print('t: {}, i: {}, j: {}'.format(t, i, j))\n",
    "    return t, i, j"
   ]
  },
  {
   "cell_type": "markdown",
   "metadata": {},
   "source": [
    "**Ejemplo**: el carné B12345 utiliza los dígitos 12345 y obtiene los parámetros $t$: 4, $i$: 2, $j$: 5."
   ]
  },
  {
   "cell_type": "code",
   "execution_count": 10,
   "metadata": {},
   "outputs": [
    {
     "name": "stdout",
     "output_type": "stream",
     "text": [
      "t: 2, i: 6, j: 3\n"
     ]
    }
   ],
   "source": [
    "t, i, j = parametros_asignados(67709)"
   ]
  },
  {
   "cell_type": "markdown",
   "metadata": {},
   "source": [
    "### 4.1. - Encuesta del curso\n",
    "\n",
    "* (30%) Completar la encuesta disponible a partir del lunes 7 de diciembre de 2020.\n",
    "\n",
    "### 4.2. - Construir la matriz de transición de estados\n",
    "\n",
    "* (30%) Para los datos dados, crear la matriz de probabilidades de transición de estados, considerando que el rango de valores de energía se divide en $N = 10$ estados, donde $i, j \\in \\{ 1, \\ldots, 10 \\}$ son estados particulares.\n",
    "\n",
    "\n",
    "### 4.3. - Construcción de la matriz de transición de orden *t* predicción\n",
    "\n",
    "Para los valores obtenidos en `parametros_asignados()`:\n",
    "\n",
    "* (20%) Construir la matriz de transición de estados de orden $t$.\n",
    "\n",
    "\n",
    "* (20%) Determinar la probabilidad de estar en el estado $j$, $t$ días después de estar en el estado $i$.\n"
   ]
  },
  {
   "cell_type": "code",
   "execution_count": 13,
   "metadata": {},
   "outputs": [
    {
     "name": "stdout",
     "output_type": "stream",
     "text": [
      "[[ 0.   1.   2.   3.   4.   5.   6.   7.   8.   9.  10. ]\n",
      " [ 1.   0.   0.   0.   0.   0.   1.   0.   0.   0.   0. ]\n",
      " [ 2.   0.   0.   0.   0.5  0.   0.5  0.   0.   0.   0. ]\n",
      " [ 3.   0.   0.   0.   0.   0.   0.   0.7  0.3  0.   0. ]\n",
      " [ 4.   0.   0.1  0.1  0.   0.   0.   0.2  0.5  0.2  0. ]\n",
      " [ 5.   0.   0.   0.   0.1  0.   0.   0.1  0.2  0.5  0.1]\n",
      " [ 6.   0.   0.   0.3  0.4  0.   0.1  0.1  0.   0.   0.2]\n",
      " [ 7.   0.   0.   0.   0.3  0.2  0.   0.   0.4  0.   0. ]\n",
      " [ 8.   0.   0.   0.   0.   0.1  0.1  0.1  0.5  0.2  0. ]\n",
      " [ 9.   0.   0.   0.   0.   0.   0.1  0.2  0.2  0.4  0.2]\n",
      " [10.   0.   0.   0.   0.   0.   0.   0.   0.1  0.2  0.6]]\n",
      "t: 2, i: 6, j: 3\n",
      "Matriz de transicion de estados de orden 2:\n",
      "[1. 2. 2. 2. 2. 1. 2. 2. 2. 2. 2. 2. 1. 2. 2. 2. 2. 2. 2. 1. 2. 2. 2. 2.\n",
      " 2. 2. 1. 2. 2. 2. 2. 2. 2. 1. 2. 2. 2. 2. 2. 2. 1. 2. 2. 2. 2. 2. 2. 1.\n",
      " 2. 2. 2. 2. 2. 2. 1. 2. 2. 2. 2. 2. 2. 1. 2. 2. 2. 2. 2. 2. 1. 2. 2. 2.\n",
      " 2. 2. 2. 1. 2. 2. 2. 2. 2. 2. 1. 2. 2. 2. 2. 2. 2. 1. 2. 2. 2. 2. 2. 2.\n",
      " 1. 2. 2. 2. 2. 2. 2. 2. 2. 2. 2. 1. 1. 1. 1. 2. 2. 2. 2. 3. 2. 2. 2. 2.\n",
      " 2. 2. 2. 2. 2. 2. 2. 2. 2. 2. 2. 1. 2. 2. 2. 2. 2. 2. 1. 2. 2. 2. 2. 2.\n",
      " 2. 1. 2. 2. 2. 2. 2. 2. 1. 2. 2. 2. 2. 2. 2. 1. 2. 2. 2. 2. 2. 2. 1. 2.\n",
      " 2. 2. 2. 2. 2. 1. 2. 2. 2. 2. 2. 2. 1. 2. 2. 2. 2. 2. 2. 1. 2. 2. 2. 2.\n",
      " 2. 2. 1. 2. 2. 2. 2. 2. 2. 1. 2. 2. 2. 1. 2. 1. 1. 2. 2. 2. 2. 2. 2. 1.\n",
      " 2. 2. 2. 2. 2. 2. 1. 2. 2. 2. 1. 2. 2. 1. 2. 2. 2. 2. 2. 2. 1. 2. 2. 2.\n",
      " 2. 2. 2. 1. 2. 2. 2. 2. 2. 2. 1. 2. 2. 2. 2.]\n",
      "La posibilidad de que se presente un estado j=3 luego de t=2 dias de presentarse el estado i=6 es de: 0.0588\n"
     ]
    }
   ],
   "source": [
    "### 4.2. - Construir la matriz de transición de estados\n",
    "\n",
    "import numpy as np\n",
    "\n",
    "matriz_proba = np.zeros((11,11))\n",
    "\n",
    "for i in range(1, 11):\n",
    "    matriz_proba[0,i] = i\n",
    "    matriz_proba[i,0] = i\n",
    "\n",
    "for i in range(1,11):\n",
    "    for j in range(1,11):\n",
    "        matriz_proba[i,j] = round(probabilidad_transicion(vector_estados, numero_estados, i, j),1)\n",
    "        \n",
    "print(matriz_proba)\n",
    "\n",
    "\n",
    "### 4.3. - Construcción de la matriz de transición de orden *t* predicción\n",
    "\n",
    "\n",
    "t, i, j = parametros_asignados(67709)\n",
    "\n",
    "\n",
    "print ('Matriz de transicion de estados de orden {}:'.format(t))\n",
    "print(definicion_estados(vector_energia, t))\n",
    "\n",
    "\n",
    "def probabilidad_j_t_i(vector_estados, numero_estados, i, j, t):\n",
    "    '''Una función que se encarga de calcular\n",
    "    la probabilidad de ocurrencia de la transición\n",
    "    entre un estado inicial 'i' y un estado 'j', 't' dias despues.\n",
    "    \n",
    "    :param vector_estados: el vector con los todos los estados\n",
    "    :param i: el número del estado presente\n",
    "    :param j: el número del estado futuro\n",
    "    :param t: dias despues que se debe presentar j.\n",
    "    :return: la probabilidad de transición\n",
    "    '''\n",
    "    \n",
    "    # Recorrer el vector_estados\n",
    "    ocurrencias_i = 0\n",
    "    ocurrencias_j = 0\n",
    "    for k, estado in enumerate(vector_estados[0:-1]):\n",
    "        if estado == i:\n",
    "            ocurrencias_i += 1\n",
    "            if vector_estados[k+t] == j:\n",
    "                ocurrencias_j += 1\n",
    "    \n",
    "    # Cálculo de la probabilidad\n",
    "    probabilidad = ocurrencias_j / ocurrencias_i\n",
    "    \n",
    "    return probabilidad\n",
    "\n",
    "numero_estados = 10\n",
    "\n",
    "P_ = probabilidad_j_t_i(vector_estados, numero_estados, i, j, t)\n",
    "print('La posibilidad de que se presente un estado j={} luego de t={} dias de presentarse el estado i={} es de: {:.4f}' .format(j, t, i,P_i_t_j))\n"
   ]
  },
  {
   "cell_type": "markdown",
   "metadata": {},
   "source": [
    "---\n",
    "\n",
    "### Universidad de Costa Rica\n",
    "#### Facultad de Ingeniería\n",
    "##### Escuela de Ingeniería Eléctrica\n",
    "\n",
    "---"
   ]
  }
 ],
 "metadata": {
  "kernelspec": {
   "display_name": "Python 3",
   "language": "python",
   "name": "python3"
  },
  "language_info": {
   "codemirror_mode": {
    "name": "ipython",
    "version": 3
   },
   "file_extension": ".py",
   "mimetype": "text/x-python",
   "name": "python",
   "nbconvert_exporter": "python",
   "pygments_lexer": "ipython3",
   "version": "3.8.3"
  }
 },
 "nbformat": 4,
 "nbformat_minor": 2
}
